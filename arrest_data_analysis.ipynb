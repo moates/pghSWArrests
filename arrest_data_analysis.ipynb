{
 "cells": [
  {
   "cell_type": "code",
   "execution_count": 42,
   "id": "bba910c5-b241-41c1-8c4d-9e472810bac8",
   "metadata": {},
   "outputs": [],
   "source": [
    "import urllib.request\n",
    "import requests\n",
    "import pandas as pd"
   ]
  },
  {
   "cell_type": "markdown",
   "id": "54446bc9-483b-4cfd-b5d0-1d99d3099e5d",
   "metadata": {},
   "source": [
    "## Request Data from the WPRDC API"
   ]
  },
  {
   "cell_type": "code",
   "execution_count": 36,
   "id": "55bb937b-7938-4df8-a9cd-863993aaef3a",
   "metadata": {},
   "outputs": [],
   "source": [
    "# Base URL suggested by WPRDC\n",
    "# url = 'https://data.wprdc.org/api/3/action/datastore_search?resource_id=e03a89dd-134a-4ee8-a2bd-62c40aeebc6f&limit=5&q=title:jones'  "
   ]
  },
  {
   "cell_type": "code",
   "execution_count": 67,
   "id": "67042d84-5cb9-44ae-8cb1-187a6dc4f64c",
   "metadata": {},
   "outputs": [],
   "source": [
    "test_url = 'https://data.wprdc.org/api/3/action/datastore_search?resource_id=e03a89dd-134a-4ee8-a2bd-62c40aeebc6f&limit=5'  "
   ]
  },
  {
   "cell_type": "code",
   "execution_count": 75,
   "id": "4a585618-fbb9-4288-b5cf-441ee90d06d5",
   "metadata": {
    "scrolled": true
   },
   "outputs": [
    {
     "data": {
      "text/plain": [
       "True"
      ]
     },
     "execution_count": 75,
     "metadata": {},
     "output_type": "execute_result"
    }
   ],
   "source": [
    "r = requests.get(test_url).json()\n",
    "r['success']"
   ]
  },
  {
   "cell_type": "markdown",
   "id": "66c1989e-9a9f-445d-ab0f-04b528c60afa",
   "metadata": {},
   "source": [
    "## Format arrest data"
   ]
  },
  {
   "cell_type": "code",
   "execution_count": 88,
   "id": "720dbecb-0757-4fd5-a2ff-14989bef14f6",
   "metadata": {
    "scrolled": true
   },
   "outputs": [
    {
     "data": {
      "text/html": [
       "<div>\n",
       "<style scoped>\n",
       "    .dataframe tbody tr th:only-of-type {\n",
       "        vertical-align: middle;\n",
       "    }\n",
       "\n",
       "    .dataframe tbody tr th {\n",
       "        vertical-align: top;\n",
       "    }\n",
       "\n",
       "    .dataframe thead th {\n",
       "        text-align: right;\n",
       "    }\n",
       "</style>\n",
       "<table border=\"1\" class=\"dataframe\">\n",
       "  <thead>\n",
       "    <tr style=\"text-align: right;\">\n",
       "      <th></th>\n",
       "      <th>PK</th>\n",
       "      <th>CCR</th>\n",
       "      <th>AGE</th>\n",
       "      <th>GENDER</th>\n",
       "      <th>RACE</th>\n",
       "      <th>ARRESTTIME</th>\n",
       "      <th>ARRESTLOCATION</th>\n",
       "      <th>OFFENSES</th>\n",
       "      <th>INCIDENTLOCATION</th>\n",
       "      <th>INCIDENTNEIGHBORHOOD</th>\n",
       "      <th>INCIDENTZONE</th>\n",
       "      <th>INCIDENTTRACT</th>\n",
       "      <th>COUNCIL_DISTRICT</th>\n",
       "      <th>PUBLIC_WORKS_DIVISION</th>\n",
       "      <th>X</th>\n",
       "      <th>Y</th>\n",
       "    </tr>\n",
       "    <tr>\n",
       "      <th>id</th>\n",
       "      <th></th>\n",
       "      <th></th>\n",
       "      <th></th>\n",
       "      <th></th>\n",
       "      <th></th>\n",
       "      <th></th>\n",
       "      <th></th>\n",
       "      <th></th>\n",
       "      <th></th>\n",
       "      <th></th>\n",
       "      <th></th>\n",
       "      <th></th>\n",
       "      <th></th>\n",
       "      <th></th>\n",
       "      <th></th>\n",
       "      <th></th>\n",
       "    </tr>\n",
       "  </thead>\n",
       "  <tbody>\n",
       "    <tr>\n",
       "      <th>1</th>\n",
       "      <td>1975272</td>\n",
       "      <td>16158872</td>\n",
       "      <td>42</td>\n",
       "      <td>F</td>\n",
       "      <td>B</td>\n",
       "      <td>2016-08-24T12:20:00</td>\n",
       "      <td>4700 Block Centre AV Pittsburgh, PA 15213</td>\n",
       "      <td>3929 Retail Theft.</td>\n",
       "      <td>4700 Block Centre AV Pittsburgh, PA 15213</td>\n",
       "      <td>Bloomfield</td>\n",
       "      <td>5</td>\n",
       "      <td>804</td>\n",
       "      <td>8</td>\n",
       "      <td>2</td>\n",
       "      <td>-79.949277</td>\n",
       "      <td>40.452551</td>\n",
       "    </tr>\n",
       "    <tr>\n",
       "      <th>2</th>\n",
       "      <td>1974456</td>\n",
       "      <td>16144120</td>\n",
       "      <td>31</td>\n",
       "      <td>M</td>\n",
       "      <td>W</td>\n",
       "      <td>2016-08-03T14:55:00</td>\n",
       "      <td>4200 Block Steubenville PKE Pittsburgh, PA 15205</td>\n",
       "      <td>13(a)(16) Possession of Controlled Substance</td>\n",
       "      <td>4200 Block Steubenville PKE Pittsburgh, PA 15205</td>\n",
       "      <td>Outside City</td>\n",
       "      <td>OSC</td>\n",
       "      <td>5599</td>\n",
       "      <td>None</td>\n",
       "      <td>None</td>\n",
       "      <td>-80.088018</td>\n",
       "      <td>40.440136</td>\n",
       "    </tr>\n",
       "    <tr>\n",
       "      <th>3</th>\n",
       "      <td>1974466</td>\n",
       "      <td>16144165</td>\n",
       "      <td>63</td>\n",
       "      <td>F</td>\n",
       "      <td>B</td>\n",
       "      <td>2016-08-03T16:45:00</td>\n",
       "      <td>900 Block Freeport RD Fox Chapel, PA 15238</td>\n",
       "      <td>3929 Retail Theft.</td>\n",
       "      <td>900 Block Freeport RD Fox Chapel, PA 15238</td>\n",
       "      <td>Westwood</td>\n",
       "      <td>5</td>\n",
       "      <td>2811</td>\n",
       "      <td>9</td>\n",
       "      <td>2</td>\n",
       "      <td>-79.891803</td>\n",
       "      <td>40.486625</td>\n",
       "    </tr>\n",
       "    <tr>\n",
       "      <th>4</th>\n",
       "      <td>1974550</td>\n",
       "      <td>16145257</td>\n",
       "      <td>25</td>\n",
       "      <td>F</td>\n",
       "      <td>W</td>\n",
       "      <td>2016-08-05T02:36:00</td>\n",
       "      <td>Foreland ST &amp; Cedar AV Pittsburgh, PA 15212</td>\n",
       "      <td>5503 Disorderly Conduct. / 5505 Public Drunken...</td>\n",
       "      <td>Foreland ST &amp; Cedar AV Pittsburgh, PA 15212</td>\n",
       "      <td>East Allegheny</td>\n",
       "      <td>1</td>\n",
       "      <td>2304</td>\n",
       "      <td>1</td>\n",
       "      <td>1</td>\n",
       "      <td>-80.001939</td>\n",
       "      <td>40.454080</td>\n",
       "    </tr>\n",
       "    <tr>\n",
       "      <th>5</th>\n",
       "      <td>1974596</td>\n",
       "      <td>16145962</td>\n",
       "      <td>25</td>\n",
       "      <td>M</td>\n",
       "      <td>B</td>\n",
       "      <td>2016-08-06T02:00:00</td>\n",
       "      <td>900 Block Woodlow ST Pittsburgh, PA 15205</td>\n",
       "      <td>2702 Aggravated Assault. / 2705 Recklessy Enda...</td>\n",
       "      <td>900 Block Woodlow ST Pittsburgh, PA 15205</td>\n",
       "      <td>Crafton Heights</td>\n",
       "      <td>5</td>\n",
       "      <td>2814</td>\n",
       "      <td>2</td>\n",
       "      <td>5</td>\n",
       "      <td>-80.052204</td>\n",
       "      <td>40.445900</td>\n",
       "    </tr>\n",
       "  </tbody>\n",
       "</table>\n",
       "</div>"
      ],
      "text/plain": [
       "         PK       CCR  AGE GENDER RACE           ARRESTTIME  \\\n",
       "id                                                            \n",
       "1   1975272  16158872   42      F    B  2016-08-24T12:20:00   \n",
       "2   1974456  16144120   31      M    W  2016-08-03T14:55:00   \n",
       "3   1974466  16144165   63      F    B  2016-08-03T16:45:00   \n",
       "4   1974550  16145257   25      F    W  2016-08-05T02:36:00   \n",
       "5   1974596  16145962   25      M    B  2016-08-06T02:00:00   \n",
       "\n",
       "                                      ARRESTLOCATION  \\\n",
       "id                                                     \n",
       "1          4700 Block Centre AV Pittsburgh, PA 15213   \n",
       "2   4200 Block Steubenville PKE Pittsburgh, PA 15205   \n",
       "3         900 Block Freeport RD Fox Chapel, PA 15238   \n",
       "4        Foreland ST & Cedar AV Pittsburgh, PA 15212   \n",
       "5          900 Block Woodlow ST Pittsburgh, PA 15205   \n",
       "\n",
       "                                             OFFENSES  \\\n",
       "id                                                      \n",
       "1                                  3929 Retail Theft.   \n",
       "2        13(a)(16) Possession of Controlled Substance   \n",
       "3                                  3929 Retail Theft.   \n",
       "4   5503 Disorderly Conduct. / 5505 Public Drunken...   \n",
       "5   2702 Aggravated Assault. / 2705 Recklessy Enda...   \n",
       "\n",
       "                                    INCIDENTLOCATION INCIDENTNEIGHBORHOOD  \\\n",
       "id                                                                          \n",
       "1          4700 Block Centre AV Pittsburgh, PA 15213           Bloomfield   \n",
       "2   4200 Block Steubenville PKE Pittsburgh, PA 15205         Outside City   \n",
       "3         900 Block Freeport RD Fox Chapel, PA 15238             Westwood   \n",
       "4        Foreland ST & Cedar AV Pittsburgh, PA 15212       East Allegheny   \n",
       "5          900 Block Woodlow ST Pittsburgh, PA 15205      Crafton Heights   \n",
       "\n",
       "   INCIDENTZONE INCIDENTTRACT COUNCIL_DISTRICT PUBLIC_WORKS_DIVISION  \\\n",
       "id                                                                     \n",
       "1             5           804                8                     2   \n",
       "2           OSC          5599             None                  None   \n",
       "3             5          2811                9                     2   \n",
       "4             1          2304                1                     1   \n",
       "5             5          2814                2                     5   \n",
       "\n",
       "            X          Y  \n",
       "id                        \n",
       "1  -79.949277  40.452551  \n",
       "2  -80.088018  40.440136  \n",
       "3  -79.891803  40.486625  \n",
       "4  -80.001939  40.454080  \n",
       "5  -80.052204  40.445900  "
      ]
     },
     "execution_count": 88,
     "metadata": {},
     "output_type": "execute_result"
    }
   ],
   "source": [
    "data = pd.DataFrame(r['result']['records'])\n",
    "data = data.set_index('_id')\n",
    "data.index.rename('id', inplace=True)\n",
    "data"
   ]
  },
  {
   "cell_type": "markdown",
   "id": "ddd84457-99d3-47c9-9816-335debcf59de",
   "metadata": {},
   "source": [
    "## Filter to prostitution-related charges"
   ]
  },
  {
   "cell_type": "code",
   "execution_count": null,
   "id": "7f553863-235c-44ff-9602-955eb855150a",
   "metadata": {},
   "outputs": [],
   "source": []
  }
 ],
 "metadata": {
  "kernelspec": {
   "display_name": "Python 3 (ipykernel)",
   "language": "python",
   "name": "python3"
  },
  "language_info": {
   "codemirror_mode": {
    "name": "ipython",
    "version": 3
   },
   "file_extension": ".py",
   "mimetype": "text/x-python",
   "name": "python",
   "nbconvert_exporter": "python",
   "pygments_lexer": "ipython3",
   "version": "3.11.2"
  }
 },
 "nbformat": 4,
 "nbformat_minor": 5
}
